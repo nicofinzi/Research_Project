{
  "nbformat": 4,
  "nbformat_minor": 0,
  "metadata": {
    "colab": {
      "provenance": []
    },
    "kernelspec": {
      "name": "python3",
      "display_name": "Python 3"
    },
    "language_info": {
      "name": "python"
    }
  },
  "cells": [
    {
      "cell_type": "code",
      "execution_count": null,
      "metadata": {
        "colab": {
          "base_uri": "https://localhost:8080/"
        },
        "id": "aYBUGQ7gFzfQ",
        "outputId": "0ffbd15e-c5a8-4c50-e0d1-e3f588335419"
      },
      "outputs": [
        {
          "output_type": "stream",
          "name": "stdout",
          "text": [
            "Mounted at /content/drive\n"
          ]
        }
      ],
      "source": [
        "from google.colab import drive\n",
        "drive.mount('/content/drive')"
      ]
    },
    {
      "cell_type": "code",
      "source": [
        "import os\n",
        "from os import path\n",
        "path = \"/content/drive/MyDrive/Colab Notebooks/DISSERTATION/MSN/Logistic_Eval/logs_0.1%\"\n",
        "print(os.path.exists(path))"
      ],
      "metadata": {
        "colab": {
          "base_uri": "https://localhost:8080/"
        },
        "id": "xIxoLGHro4bt",
        "outputId": "e3827740-fc35-4c7c-fa1a-9f2668f11e43"
      },
      "execution_count": null,
      "outputs": [
        {
          "output_type": "stream",
          "name": "stdout",
          "text": [
            "True\n"
          ]
        }
      ]
    },
    {
      "cell_type": "code",
      "source": [
        "import torch, numpy as np\n",
        "from sklearn.linear_model import LogisticRegression\n",
        "from sklearn.metrics import confusion_matrix, classification_report, accuracy_score\n",
        "import matplotlib.pyplot as plt\n",
        "import seaborn as sns\n",
        "\n",
        "# load features\n",
        "train_ckpt = torch.load(path + '/train-features-pathmnist-train-frac0.001-seed42-msn-pathmnist-train-latest.pth.tar.pth.tar', map_location='cpu')\n",
        "test_ckpt  = torch.load(path + '/test-features-msn-pathmnist-train-latest.pth.tar.pth.tar',  map_location='cpu')\n",
        "\n",
        "X_train = train_ckpt['embs'].numpy().astype(np.float32)\n",
        "y_train = train_ckpt['labs'].numpy().astype(np.int64)\n",
        "X_test  = test_ckpt['embs'].numpy().astype(np.float32)\n",
        "y_test  = test_ckpt['labs'].numpy().astype(np.int64)\n",
        "\n",
        "print('Train:', X_train.shape, y_train.shape)\n",
        "print('Test :', X_test.shape,  y_test.shape)"
      ],
      "metadata": {
        "colab": {
          "base_uri": "https://localhost:8080/"
        },
        "id": "uLJzL5mro4eF",
        "outputId": "6971434f-3616-4bfb-83d8-09e0c9f40755"
      },
      "execution_count": null,
      "outputs": [
        {
          "output_type": "stream",
          "name": "stdout",
          "text": [
            "Train: (90, 384) (90,)\n",
            "Test : (7180, 384) (7180,)\n"
          ]
        }
      ]
    },
    {
      "cell_type": "code",
      "source": [
        "# normalization to mirror HPC run (row-wise centering + L2)\n",
        "NORMALIZE = True\n",
        "if NORMALIZE:\n",
        "    def row_center_l2(X):\n",
        "        X = X - X.mean(axis=1, keepdims=True)\n",
        "        n = np.linalg.norm(X, axis=1, keepdims=True) + 1e-12\n",
        "        return X / n\n",
        "    X_train = row_center_l2(X_train)\n",
        "    X_test  = row_center_l2(X_test)\n",
        "\n",
        "# logistic regression\n",
        "lambd = 0.0025\n",
        "C = max(1e-6, len(X_train) / lambd)\n",
        "\n",
        "clf = LogisticRegression(\n",
        "    solver='saga',\n",
        "    multi_class='multinomial',\n",
        "    fit_intercept=False,\n",
        "    max_iter=2000,\n",
        "    tol=1e-3,\n",
        "    C=C,\n",
        "    n_jobs=-1,\n",
        "    penalty='l2'\n",
        ")\n",
        "clf.fit(X_train, y_train)"
      ],
      "metadata": {
        "id": "LxlEAK6Xo4fv"
      },
      "execution_count": null,
      "outputs": []
    },
    {
      "cell_type": "code",
      "source": [
        "y_pred = clf.predict(X_test)\n",
        "\n",
        "# confusion matrix\n",
        "cm = confusion_matrix(y_test, y_pred)           # raw counts\n",
        "classes = [f\"{i}\" for i in range(cm.shape[0])]  # 0-8 for PathMNIST\n",
        "\n",
        "def plot_cm_sns(mat, title, cmap, fmt):\n",
        "    plt.figure(figsize=(8, 6))\n",
        "    sns.heatmap(mat,\n",
        "                annot=True,\n",
        "                fmt=fmt,\n",
        "                cmap=cmap,\n",
        "                cbar=True,\n",
        "                xticklabels=classes,\n",
        "                yticklabels=classes,\n",
        "                square=False\n",
        "                )\n",
        "\n",
        "    plt.xlabel(\"Predicted\")\n",
        "    plt.ylabel(\"True\")\n",
        "    plt.title(title)\n",
        "    plt.tight_layout()\n",
        "    plt.show()\n",
        "\n",
        "# Counts heatmap (blue)\n",
        "plot_cm_sns(cm, \"MSN - Confusion Matrix (0.1% of Training Labels Used)\", cmap=\"Blues\", fmt=\"d\")\n",
        "\n",
        "# metrics\n",
        "y_pred = clf.predict(X_test)\n",
        "acc = accuracy_score(y_test, y_pred)\n",
        "print(f\"Test accuracy: {acc:.6f}\\n\")\n",
        "print(\"MSN - Classification report (0.1% of Training Labels):\\n\", classification_report(y_test, y_pred, digits=6))"
      ],
      "metadata": {
        "id": "l1LRLm_eo4iA"
      },
      "execution_count": null,
      "outputs": []
    }
  ]
}
