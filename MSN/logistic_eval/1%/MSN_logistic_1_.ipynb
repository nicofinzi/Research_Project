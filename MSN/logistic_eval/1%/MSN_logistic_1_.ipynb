{
  "nbformat": 4,
  "nbformat_minor": 0,
  "metadata": {
    "colab": {
      "provenance": []
    },
    "kernelspec": {
      "name": "python3",
      "display_name": "Python 3"
    },
    "language_info": {
      "name": "python"
    }
  },
  "cells": [
    {
      "cell_type": "code",
      "execution_count": null,
      "metadata": {
        "id": "OsqTJPFvGAbf",
        "colab": {
          "base_uri": "https://localhost:8080/"
        },
        "outputId": "79dc7d2a-bd41-4e16-bfad-49a4ea3593df"
      },
      "outputs": [
        {
          "output_type": "stream",
          "name": "stdout",
          "text": [
            "Mounted at /content/drive\n"
          ]
        }
      ],
      "source": [
        "from google.colab import drive\n",
        "drive.mount('/content/drive')"
      ]
    },
    {
      "cell_type": "code",
      "source": [
        "import os\n",
        "from os import path\n",
        "path = \"/content/drive/MyDrive/Colab Notebooks/DISSERTATION/MSN/Logistic_Eval/logs_1%\"\n",
        "print(os.path.exists(path))"
      ],
      "metadata": {
        "id": "-f0VVKZKo9WQ",
        "colab": {
          "base_uri": "https://localhost:8080/"
        },
        "outputId": "83b67ede-fec4-4dc7-8dd2-4e8e67b70a65"
      },
      "execution_count": null,
      "outputs": [
        {
          "output_type": "stream",
          "name": "stdout",
          "text": [
            "True\n"
          ]
        }
      ]
    },
    {
      "cell_type": "code",
      "source": [
        "import torch, numpy as np\n",
        "from sklearn.linear_model import LogisticRegression\n",
        "from sklearn.metrics import confusion_matrix, classification_report, accuracy_score\n",
        "import matplotlib.pyplot as plt\n",
        "import seaborn as sns\n",
        "\n",
        "# load features\n",
        "train_ckpt = torch.load(path + '/train-features-pathmnist-train-frac0.01-seed42-msn-pathmnist-train-latest.pth.tar.pth.tar', map_location='cpu')\n",
        "test_ckpt  = torch.load(path + '/test-features-msn-pathmnist-train-latest.pth.tar.pth.tar',  map_location='cpu')\n",
        "\n",
        "X_train = train_ckpt['embs'].numpy().astype(np.float32)\n",
        "y_train = train_ckpt['labs'].numpy().astype(np.int64)\n",
        "X_test  = test_ckpt['embs'].numpy().astype(np.float32)\n",
        "y_test  = test_ckpt['labs'].numpy().astype(np.int64)\n",
        "\n",
        "print('Train:', X_train.shape, y_train.shape)\n",
        "print('Test :', X_test.shape,  y_test.shape)"
      ],
      "metadata": {
        "id": "rd6BpOlhpBJ7",
        "colab": {
          "base_uri": "https://localhost:8080/"
        },
        "outputId": "27125234-4ab7-457c-d199-97e5d1b28f63"
      },
      "execution_count": null,
      "outputs": [
        {
          "output_type": "stream",
          "name": "stdout",
          "text": [
            "Train: (900, 384) (900,)\n",
            "Test : (7180, 384) (7180,)\n"
          ]
        }
      ]
    },
    {
      "cell_type": "code",
      "source": [
        "# normalization to mirror HPC run (row-wise centering + L2)\n",
        "NORMALIZE = True\n",
        "if NORMALIZE:\n",
        "    def row_center_l2(X):\n",
        "        X = X - X.mean(axis=1, keepdims=True)\n",
        "        n = np.linalg.norm(X, axis=1, keepdims=True) + 1e-12\n",
        "        return X / n\n",
        "    X_train = row_center_l2(X_train)\n",
        "    X_test  = row_center_l2(X_test)\n",
        "\n",
        "# logistic regression\n",
        "lambd = 0.0025\n",
        "C = max(1e-6, len(X_train) / lambd)\n",
        "\n",
        "clf = LogisticRegression(\n",
        "    solver='saga',\n",
        "    multi_class='multinomial',\n",
        "    fit_intercept=False,\n",
        "    max_iter=2000,\n",
        "    tol=1e-3,\n",
        "    C=C,\n",
        "    n_jobs=-1,\n",
        "    penalty='l2'\n",
        ")\n",
        "clf.fit(X_train, y_train)"
      ],
      "metadata": {
        "id": "BxvKXS4YpBM8"
      },
      "execution_count": null,
      "outputs": []
    },
    {
      "cell_type": "code",
      "source": [
        "y_pred = clf.predict(X_test)\n",
        "\n",
        "# confusion matrix\n",
        "cm = confusion_matrix(y_test, y_pred)           # raw counts\n",
        "classes = [f\"{i}\" for i in range(cm.shape[0])]  # 0-8 for PathMNIST\n",
        "\n",
        "def plot_cm_sns(mat, title, cmap, fmt):\n",
        "    plt.figure(figsize=(8, 6))\n",
        "    sns.heatmap(mat,\n",
        "                annot=True,\n",
        "                fmt=fmt,\n",
        "                cmap=cmap,\n",
        "                cbar=True,\n",
        "                xticklabels=classes,\n",
        "                yticklabels=classes,\n",
        "                square=False\n",
        "                )\n",
        "\n",
        "    plt.xlabel(\"Predicted\")\n",
        "    plt.ylabel(\"True\")\n",
        "    plt.title(title)\n",
        "    plt.tight_layout()\n",
        "    plt.show()\n",
        "\n",
        "# Counts heatmap (blue)\n",
        "plot_cm_sns(cm, \"MSN - Confusion Matrix (1% of of Training Labels Used)\", cmap=\"Blues\", fmt=\"d\")\n",
        "\n",
        "# metrics\n",
        "y_pred = clf.predict(X_test)\n",
        "acc = accuracy_score(y_test, y_pred)\n",
        "print(f\"Test accuracy: {acc:.6f}\\n\")\n",
        "print(\"MSN - Classification report (1% of Labels):\\n\", classification_report(y_test, y_pred, digits=6))"
      ],
      "metadata": {
        "id": "w_a0gucfpBQn"
      },
      "execution_count": null,
      "outputs": []
    },
    {
      "cell_type": "code",
      "source": [
        "from sklearn.manifold import TSNE\n",
        "\n",
        "# PathMNIST has 9 tissue classes\n",
        "class_names = [\n",
        "    \"Label 0: Adipose\",                             # 0\n",
        "    \"Label 1: Background\",                          # 1\n",
        "    \"Label 2: Debris\",                              # 2\n",
        "    \"Label 3: Lymphocytes\",                         # 3\n",
        "    \"Label 4: Mucus\",                               # 4\n",
        "    \"Label 5: Smooth Muscle\",                       # 5\n",
        "    \"Label 6: Normal Colon Mucosa\",                 # 6\n",
        "    \"Label 7: Cancer-Associated Stroma\",            # 7\n",
        "    \"Label 8: Colorectal Adenocarcinoma Epithelium\" # 8\n",
        "]\n",
        "\n",
        "# Row-wise centering + L2\n",
        "def row_center_l2(A):\n",
        "    A = A - A.mean(axis=1, keepdims=True)\n",
        "    n = np.linalg.norm(A, axis=1, keepdims=True) + 1e-12\n",
        "    return A / n\n",
        "\n",
        "X_vis = row_center_l2(X_test)\n",
        "y_vis = y_test\n",
        "\n",
        "# t-SNE\n",
        "X_embedded = TSNE(\n",
        "    n_components=2,\n",
        "    perplexity=30,\n",
        "    metric='cosine',\n",
        "    random_state=42,\n",
        "    init='pca',\n",
        "    learning_rate='auto',\n",
        "    n_iter=1000\n",
        ").fit_transform(X_vis)\n",
        "\n",
        "# Plot\n",
        "plt.figure(figsize=(12, 8))\n",
        "sc = plt.scatter(X_embedded[:, 0], X_embedded[:, 1], c=y_vis, cmap=\"tab10\", s=5)\n",
        "\n",
        "# Legend with class names\n",
        "handles, labels = sc.legend_elements()\n",
        "labels = [class_names[int(lbl.strip('$\\\\mathdefault{}'))] for lbl in labels]\n",
        "plt.legend(handles, labels, title=\"Classes\", bbox_to_anchor=(1.01, 1), loc=\"upper left\")\n",
        "\n",
        "plt.title(\"t-SNE Visualization of MSN Test Feature Embeddings by Class\")\n",
        "plt.tight_layout()\n",
        "plt.show()"
      ],
      "metadata": {
        "id": "bsrUERCtoTu6"
      },
      "execution_count": null,
      "outputs": []
    }
  ]
}
