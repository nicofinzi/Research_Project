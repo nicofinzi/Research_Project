{
  "nbformat": 4,
  "nbformat_minor": 0,
  "metadata": {
    "colab": {
      "provenance": []
    },
    "kernelspec": {
      "name": "python3",
      "display_name": "Python 3"
    },
    "language_info": {
      "name": "python"
    }
  },
  "cells": [
    {
      "cell_type": "code",
      "source": [
        "from google.colab import drive\n",
        "drive.mount('/content/drive')"
      ],
      "metadata": {
        "colab": {
          "base_uri": "https://localhost:8080/"
        },
        "id": "RryediSIjn4S",
        "outputId": "36422af2-f9dc-4393-e55b-19d91e73b1b9"
      },
      "execution_count": null,
      "outputs": [
        {
          "output_type": "stream",
          "name": "stdout",
          "text": [
            "Mounted at /content/drive\n"
          ]
        }
      ]
    },
    {
      "cell_type": "code",
      "execution_count": null,
      "metadata": {
        "id": "M9M8-3i7fUUi"
      },
      "outputs": [],
      "source": [
        "import numpy as np\n",
        "import matplotlib.pyplot as plt\n",
        "import seaborn as sns\n",
        "import pandas as pd\n",
        "import os"
      ]
    },
    {
      "cell_type": "code",
      "source": [
        "path = '/content/drive/MyDrive/Colab Notebooks/DISSERTATION/MSN/msn-pathmnist-train.csv'\n",
        "print(os.path.exists(path))"
      ],
      "metadata": {
        "colab": {
          "base_uri": "https://localhost:8080/"
        },
        "id": "2LeCMCZTlHvE",
        "outputId": "d29dd891-0687-4aa0-db05-f510eb217a55"
      },
      "execution_count": null,
      "outputs": [
        {
          "output_type": "stream",
          "name": "stdout",
          "text": [
            "True\n"
          ]
        }
      ]
    },
    {
      "cell_type": "code",
      "source": [
        "path1 = '/content/drive/MyDrive/Colab Notebooks/DISSERTATION/DINO/log_numbers.csv'\n",
        "print(os.path.exists(path1))"
      ],
      "metadata": {
        "colab": {
          "base_uri": "https://localhost:8080/"
        },
        "id": "ZHbVbX3RKNk4",
        "outputId": "5638e627-eb39-4368-f816-e8a6a4fc2a0d"
      },
      "execution_count": null,
      "outputs": [
        {
          "output_type": "stream",
          "name": "stdout",
          "text": [
            "True\n"
          ]
        }
      ]
    },
    {
      "cell_type": "code",
      "source": [
        "td1 = pd.read_csv(path)\n",
        "td1.head()"
      ],
      "metadata": {
        "id": "VtkpTGwageeL"
      },
      "execution_count": null,
      "outputs": []
    },
    {
      "cell_type": "code",
      "source": [
        "df1 = pd.read_csv(path1, header=None, names=['train_loss', 'train_lr', 'train_wd', 'epoch'])\n",
        "df1.head()"
      ],
      "metadata": {
        "id": "48hvdj-IKP1a"
      },
      "execution_count": null,
      "outputs": []
    },
    {
      "cell_type": "code",
      "source": [
        "sns.lineplot(data=td1, x='epoch', y='msn', label='MSN')\n",
        "sns.lineplot(data=df1, x='epoch', y='train_loss', color='orange', label='DINO')\n",
        "plt.xlabel('Epoch')\n",
        "plt.ylabel('Training Loss')\n",
        "plt.title('MSN vs DINO Training Loss per Epoch')\n",
        "plt.grid(True, alpha=0.25)\n",
        "plt.legend()\n",
        "plt.tight_layout()\n",
        "plt.show()"
      ],
      "metadata": {
        "id": "u2Jvz5--Jiam"
      },
      "execution_count": null,
      "outputs": []
    },
    {
      "cell_type": "code",
      "source": [
        "sns.lineplot(data=td1, x='epoch', y='ent')\n",
        "plt.xlabel('Epoch')\n",
        "plt.ylabel('Output Entropy')\n",
        "plt.title('MSN - Output Entropy per Training Epoch')\n",
        "plt.grid(True, alpha=0.25)\n",
        "plt.tight_layout()\n",
        "plt.show()"
      ],
      "metadata": {
        "id": "r6oVQHpXYaJE"
      },
      "execution_count": null,
      "outputs": []
    },
    {
      "cell_type": "code",
      "source": [
        "sns.lineplot(data=td1, x='epoch', y='me_max')\n",
        "plt.xlabel('Epoch')\n",
        "plt.ylabel('Me-Max Reguliser')\n",
        "plt.title('MSN - Me-Max Regulariser per Training Epoch')\n",
        "plt.grid(True, alpha=0.25)\n",
        "plt.tight_layout()\n",
        "plt.show()"
      ],
      "metadata": {
        "id": "4SR3DL5T6jzb"
      },
      "execution_count": null,
      "outputs": []
    },
    {
      "cell_type": "code",
      "source": [],
      "metadata": {
        "id": "lHxJPjz7ftBr"
      },
      "execution_count": null,
      "outputs": []
    }
  ]
}