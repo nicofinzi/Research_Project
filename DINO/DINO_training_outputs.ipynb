{
  "nbformat": 4,
  "nbformat_minor": 0,
  "metadata": {
    "colab": {
      "provenance": []
    },
    "kernelspec": {
      "name": "python3",
      "display_name": "Python 3"
    },
    "language_info": {
      "name": "python"
    }
  },
  "cells": [
    {
      "cell_type": "code",
      "execution_count": null,
      "metadata": {
        "colab": {
          "base_uri": "https://localhost:8080/"
        },
        "id": "Vurf_tsnM-Ah",
        "outputId": "0f5cb38a-7b01-484e-fef1-223f35e1a2b5"
      },
      "outputs": [
        {
          "output_type": "stream",
          "name": "stdout",
          "text": [
            "Mounted at /content/drive\n"
          ]
        }
      ],
      "source": [
        "from google.colab import drive\n",
        "drive.mount('/content/drive')"
      ]
    },
    {
      "cell_type": "code",
      "source": [
        "import numpy as np\n",
        "import matplotlib.pyplot as plt\n",
        "import seaborn as sns\n",
        "import pandas as pd\n",
        "import os\n",
        "import string"
      ],
      "metadata": {
        "id": "Rq4TEClaNBrv"
      },
      "execution_count": null,
      "outputs": []
    },
    {
      "cell_type": "code",
      "source": [
        "path1 = '/content/drive/MyDrive/Colab Notebooks/DISSERTATION/DINO/log_numbers.csv'\n",
        "print(os.path.exists(path1))"
      ],
      "metadata": {
        "colab": {
          "base_uri": "https://localhost:8080/"
        },
        "id": "kAIkEsZtNGqc",
        "outputId": "d6478953-12eb-4d3e-ca41-aeb69ce2d626"
      },
      "execution_count": null,
      "outputs": [
        {
          "output_type": "stream",
          "name": "stdout",
          "text": [
            "True\n"
          ]
        }
      ]
    },
    {
      "cell_type": "code",
      "source": [
        "df1 = pd.read_csv(path1, header=None, names=['train_loss', 'train_lr', 'train_wd', 'epoch'])\n",
        "df1.head()"
      ],
      "metadata": {
        "id": "5Yq3De4ANO4f"
      },
      "execution_count": null,
      "outputs": []
    },
    {
      "cell_type": "code",
      "source": [
        "sns.lineplot(data=df1, x='epoch', y='train_lr', color='orange')\n",
        "plt.xlabel('Epoch')\n",
        "plt.ylabel('Learning Rate')\n",
        "plt.title('DINO - Learning Rate per Training Epoch')\n",
        "plt.grid(True, alpha=0.25)\n",
        "plt.tight_layout()\n",
        "plt.show()"
      ],
      "metadata": {
        "id": "BEglbRVxhpsr"
      },
      "execution_count": null,
      "outputs": []
    },
    {
      "cell_type": "code",
      "source": [
        "sns.lineplot(data=df1, x='epoch', y='train_wd', color='orange')\n",
        "plt.xlabel('Epoch')\n",
        "plt.ylabel('Weight Decay')\n",
        "plt.title('DINO - Weight Decay per Training Epoch')\n",
        "plt.grid(True, alpha=0.25)\n",
        "plt.tight_layout()\n",
        "plt.show()"
      ],
      "metadata": {
        "id": "6EEkbBxRGhh-"
      },
      "execution_count": null,
      "outputs": []
    }
  ]
}