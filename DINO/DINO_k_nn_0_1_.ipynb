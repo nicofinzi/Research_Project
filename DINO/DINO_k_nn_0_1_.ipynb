{
  "nbformat": 4,
  "nbformat_minor": 0,
  "metadata": {
    "colab": {
      "provenance": []
    },
    "kernelspec": {
      "name": "python3",
      "display_name": "Python 3"
    },
    "language_info": {
      "name": "python"
    }
  },
  "cells": [
    {
      "cell_type": "code",
      "execution_count": null,
      "metadata": {
        "id": "43MdAIrEL5RT",
        "colab": {
          "base_uri": "https://localhost:8080/"
        },
        "outputId": "c78415a9-5322-4ca6-96f9-860926213145"
      },
      "outputs": [
        {
          "output_type": "stream",
          "name": "stdout",
          "text": [
            "Mounted at /content/drive\n"
          ]
        }
      ],
      "source": [
        "from google.colab import drive\n",
        "drive.mount('/content/drive')"
      ]
    },
    {
      "cell_type": "code",
      "source": [
        "import os\n",
        "from os import path\n",
        "path = \"/content/drive/MyDrive/Colab Notebooks/DISSERTATION/DINO/KNN_Eval/test_0.1%\"\n",
        "print(os.path.exists(path))"
      ],
      "metadata": {
        "colab": {
          "base_uri": "https://localhost:8080/"
        },
        "id": "ErQUAIWQzhZ_",
        "outputId": "9c13e8a5-2c1c-4dc4-9cb8-d4ea064a895d"
      },
      "execution_count": null,
      "outputs": [
        {
          "output_type": "stream",
          "name": "stdout",
          "text": [
            "True\n"
          ]
        }
      ]
    },
    {
      "cell_type": "code",
      "source": [
        "import torch\n",
        "\n",
        "train_features = torch.load(path + \"/trainfeat.pth\")\n",
        "test_features = torch.load(path + \"/testfeat.pth\")\n",
        "train_labels = torch.load(path + \"/trainlabels.pth\")\n",
        "test_labels = torch.load(path + \"/testlabels.pth\")\n",
        "\n",
        "print(train_features.shape, test_features.shape)\n",
        "print(train_labels.shape, test_labels.shape)"
      ],
      "metadata": {
        "colab": {
          "base_uri": "https://localhost:8080/"
        },
        "id": "0sSdZcj8zuET",
        "outputId": "10f46952-acc9-4e29-8a4e-7ce7b83e8f5b"
      },
      "execution_count": null,
      "outputs": [
        {
          "output_type": "stream",
          "name": "stdout",
          "text": [
            "torch.Size([90, 384]) torch.Size([7180, 384])\n",
            "torch.Size([90]) torch.Size([7180])\n"
          ]
        }
      ]
    },
    {
      "cell_type": "code",
      "source": [
        "import matplotlib.pyplot as plt\n",
        "import seaborn as sns\n",
        "from sklearn.metrics import confusion_matrix, classification_report\n",
        "\n",
        "# 1-NN predictions\n",
        "similarity = torch.mm(test_features, train_features.t())\n",
        "_, indices = similarity.topk(1, largest=True, sorted=True)\n",
        "preds = train_labels[indices.view(-1)]\n",
        "\n",
        "# confusion matrix\n",
        "cm = confusion_matrix(test_labels.numpy(), preds.numpy())\n",
        "plt.figure(figsize=(8,6))\n",
        "sns.heatmap(cm, annot=True, fmt=\"d\", cmap=\"Oranges\", cbar=True)\n",
        "plt.xlabel(\"Predicted\")\n",
        "plt.ylabel(\"True\")\n",
        "plt.title(\"DINO - Confusion Matrix (0.1% of Labels)\")\n",
        "plt.show()\n",
        "\n",
        "# metrics\n",
        "print(\"DINO - Classification Report (0.1% of Labels):\\n\")\n",
        "print(classification_report(\n",
        "    test_labels.numpy(),\n",
        "    preds.numpy(),\n",
        "    digits=6\n",
        "))"
      ],
      "metadata": {
        "id": "HPKOsl86zxxC"
      },
      "execution_count": null,
      "outputs": []
    }
  ]
}