{
  "nbformat": 4,
  "nbformat_minor": 0,
  "metadata": {
    "colab": {
      "provenance": []
    },
    "kernelspec": {
      "name": "python3",
      "display_name": "Python 3"
    },
    "language_info": {
      "name": "python"
    }
  },
  "cells": [
    {
      "cell_type": "code",
      "execution_count": null,
      "metadata": {
        "colab": {
          "base_uri": "https://localhost:8080/"
        },
        "id": "_xQl7BkdzMxE",
        "outputId": "85f2e2ca-e8d6-451a-d874-4fd6f0dfce03"
      },
      "outputs": [
        {
          "output_type": "stream",
          "name": "stdout",
          "text": [
            "Mounted at /content/drive\n"
          ]
        }
      ],
      "source": [
        "from google.colab import drive\n",
        "drive.mount('/content/drive')"
      ]
    },
    {
      "cell_type": "code",
      "source": [
        "import os\n",
        "from os import path\n",
        "path = \"/content/drive/MyDrive/Colab Notebooks/DISSERTATION/DINO/KNN_Eval/test_1%\"\n",
        "print(os.path.exists(path))"
      ],
      "metadata": {
        "colab": {
          "base_uri": "https://localhost:8080/"
        },
        "id": "PaOJreIV0zdH",
        "outputId": "752c2f16-8b61-40a6-bd5e-2b16b10be7d4"
      },
      "execution_count": null,
      "outputs": [
        {
          "output_type": "stream",
          "name": "stdout",
          "text": [
            "True\n"
          ]
        }
      ]
    },
    {
      "cell_type": "code",
      "source": [
        "import torch\n",
        "\n",
        "train_features = torch.load(path + \"/trainfeat.pth\")\n",
        "test_features = torch.load(path + \"/testfeat.pth\")\n",
        "train_labels = torch.load(path + \"/trainlabels.pth\")\n",
        "test_labels = torch.load(path + \"/testlabels.pth\")\n",
        "\n",
        "print(train_features.shape, test_features.shape)\n",
        "print(train_labels.shape, test_labels.shape)"
      ],
      "metadata": {
        "colab": {
          "base_uri": "https://localhost:8080/"
        },
        "id": "Zi58n0Se07zO",
        "outputId": "0edfe2ee-ae2d-4951-97c5-f9d3099e2fa6"
      },
      "execution_count": null,
      "outputs": [
        {
          "output_type": "stream",
          "name": "stdout",
          "text": [
            "torch.Size([900, 384]) torch.Size([7180, 384])\n",
            "torch.Size([900]) torch.Size([7180])\n"
          ]
        }
      ]
    },
    {
      "cell_type": "code",
      "source": [
        "import matplotlib.pyplot as plt\n",
        "import seaborn as sns\n",
        "from sklearn.metrics import confusion_matrix, classification_report\n",
        "\n",
        "# 1-NN predictions\n",
        "similarity = torch.mm(test_features, train_features.t())\n",
        "_, indices = similarity.topk(1, largest=True, sorted=True)\n",
        "preds = train_labels[indices.view(-1)]\n",
        "\n",
        "# confusion matrix\n",
        "cm = confusion_matrix(test_labels.numpy(), preds.numpy())\n",
        "plt.figure(figsize=(8,6))\n",
        "sns.heatmap(cm, annot=True, fmt=\"d\", cmap=\"Oranges\", cbar=True)\n",
        "plt.xlabel(\"Predicted\")\n",
        "plt.ylabel(\"True\")\n",
        "plt.title(\"DINO - Confusion Matrix (1% of Labels)\")\n",
        "plt.show()\n",
        "\n",
        "# metrics\n",
        "print(\"DINO - Classification Report (1% of Labels):\\n\")\n",
        "print(classification_report(\n",
        "    test_labels.numpy(),\n",
        "    preds.numpy(),\n",
        "    digits=6\n",
        "))"
      ],
      "metadata": {
        "id": "fpKLjCS30_GG"
      },
      "execution_count": null,
      "outputs": []
    }
  ]
}
