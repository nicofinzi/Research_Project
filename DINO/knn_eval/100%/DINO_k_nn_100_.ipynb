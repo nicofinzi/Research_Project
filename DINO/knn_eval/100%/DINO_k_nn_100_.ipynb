{
  "nbformat": 4,
  "nbformat_minor": 0,
  "metadata": {
    "colab": {
      "provenance": []
    },
    "kernelspec": {
      "name": "python3",
      "display_name": "Python 3"
    },
    "language_info": {
      "name": "python"
    }
  },
  "cells": [
    {
      "cell_type": "code",
      "execution_count": null,
      "metadata": {
        "colab": {
          "base_uri": "https://localhost:8080/"
        },
        "id": "_BvxMpoPsqtq",
        "outputId": "1226848f-8147-440d-8453-7bb980a7b72d"
      },
      "outputs": [
        {
          "output_type": "stream",
          "name": "stdout",
          "text": [
            "Mounted at /content/drive\n"
          ]
        }
      ],
      "source": [
        "from google.colab import drive\n",
        "drive.mount('/content/drive')"
      ]
    },
    {
      "cell_type": "code",
      "source": [
        "import os\n",
        "from os import path\n",
        "path = \"/content/drive/MyDrive/Colab Notebooks/DISSERTATION/DINO/KNN_Eval/test_100%\"\n",
        "print(os.path.exists(path))"
      ],
      "metadata": {
        "colab": {
          "base_uri": "https://localhost:8080/"
        },
        "id": "F39fXgVStbRM",
        "outputId": "3c77a81d-5ada-43d1-ee9f-1b79704e8d43"
      },
      "execution_count": null,
      "outputs": [
        {
          "output_type": "stream",
          "name": "stdout",
          "text": [
            "True\n"
          ]
        }
      ]
    },
    {
      "cell_type": "code",
      "source": [
        "import torch\n",
        "\n",
        "train_features = torch.load(path + \"/trainfeat.pth\")\n",
        "test_features = torch.load(path + \"/testfeat.pth\")\n",
        "train_labels = torch.load(path + \"/trainlabels.pth\")\n",
        "test_labels = torch.load(path + \"/testlabels.pth\")\n",
        "\n",
        "print(train_features.shape, test_features.shape)\n",
        "print(train_labels.shape, test_labels.shape)"
      ],
      "metadata": {
        "colab": {
          "base_uri": "https://localhost:8080/"
        },
        "id": "6T1B-tLHsvVI",
        "outputId": "a00efa16-4f04-45ec-910a-eb2925aedad1"
      },
      "execution_count": null,
      "outputs": [
        {
          "output_type": "stream",
          "name": "stdout",
          "text": [
            "torch.Size([89996, 384]) torch.Size([7180, 384])\n",
            "torch.Size([89996]) torch.Size([7180])\n"
          ]
        }
      ]
    },
    {
      "cell_type": "code",
      "source": [
        "import matplotlib.pyplot as plt\n",
        "import seaborn as sns\n",
        "from sklearn.metrics import confusion_matrix, classification_report\n",
        "\n",
        "# 1-NN predictions\n",
        "similarity = torch.mm(test_features, train_features.t())\n",
        "_, indices = similarity.topk(1, largest=True, sorted=True)\n",
        "preds = train_labels[indices.view(-1)]\n",
        "\n",
        "# confusion matrix\n",
        "cm = confusion_matrix(test_labels.numpy(), preds.numpy())\n",
        "plt.figure(figsize=(8,6))\n",
        "sns.heatmap(cm, annot=True, fmt=\"d\", cmap=\"Oranges\", cbar=True)\n",
        "plt.xlabel(\"Predicted\")\n",
        "plt.ylabel(\"True\")\n",
        "plt.title(\"DINO - Confusion Matrix (100% of Labels)\")\n",
        "plt.show()\n",
        "\n",
        "# metrics\n",
        "print(\"DINO - Classification Report (100% of Labels):\\n\")\n",
        "print(classification_report(\n",
        "    test_labels.numpy(),\n",
        "    preds.numpy(),\n",
        "    digits=6\n",
        "))"
      ],
      "metadata": {
        "id": "Sc5-B34rtXgv"
      },
      "execution_count": null,
      "outputs": []
    },
    {
      "cell_type": "markdown",
      "source": [
        "t-SNE Graph"
      ],
      "metadata": {
        "id": "ghER07sfed1l"
      }
    },
    {
      "cell_type": "code",
      "source": [
        "from sklearn.manifold import TSNE\n",
        "\n",
        "# PathMNIST has 9 tissue classes\n",
        "class_names = [\n",
        "    \"Label 0: Adipose\",                             # 0\n",
        "    \"Label 1: Background\",                          # 1\n",
        "    \"Label 2: Debris\",                              # 2\n",
        "    \"Label 3: Lymphocytes\",                         # 3\n",
        "    \"Label 4: Mucus\",                               # 4\n",
        "    \"Label 5: Smooth Muscle\",                       # 5\n",
        "    \"Label 6: Normal Colon Mucosa\",                 # 6\n",
        "    \"Label 7: Cancer-Associated Stroma\",            # 7\n",
        "    \"Label 8: Colorectal Adenocarcinoma Epithelium\" # 8\n",
        "]\n",
        "\n",
        "# use test features for visualization\n",
        "X = test_features.numpy()\n",
        "y = test_labels.numpy()\n",
        "\n",
        "# dimensionality reduction\n",
        "X_embedded = TSNE(n_components=2, perplexity=30, metric='cosine', random_state=42).fit_transform(X)\n",
        "\n",
        "# plot\n",
        "plt.figure(figsize=(12,8))\n",
        "scatter = plt.scatter(X_embedded[:,0], X_embedded[:,1], c=y, cmap=\"tab10\", s=5)\n",
        "\n",
        "# legend with class names\n",
        "handles, labels = scatter.legend_elements()\n",
        "\n",
        "# clean up matplotlib's latex-style labels like \"$\\\\mathdefault{0}$\"\n",
        "labels = [class_names[int(lbl.strip('$\\\\mathdefault{}'))] for lbl in labels]\n",
        "\n",
        "plt.legend(handles, labels, title=\"Classes\", bbox_to_anchor=(1.01, 1), loc=\"upper left\")\n",
        "\n",
        "plt.title(\"t-SNE Visualization of DINO Feature Embeddings by Class\")\n",
        "plt.tight_layout()\n",
        "plt.show()"
      ],
      "metadata": {
        "id": "HQJSx_ONuZJN"
      },
      "execution_count": null,
      "outputs": []
    }
  ]
}
