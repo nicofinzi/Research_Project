{
  "nbformat": 4,
  "nbformat_minor": 0,
  "metadata": {
    "colab": {
      "provenance": []
    },
    "kernelspec": {
      "name": "python3",
      "display_name": "Python 3"
    },
    "language_info": {
      "name": "python"
    }
  },
  "cells": [
    {
      "cell_type": "code",
      "source": [
        "from google.colab import drive\n",
        "drive.mount('/content/drive')"
      ],
      "metadata": {
        "id": "Dm96u3x2kgCL"
      },
      "execution_count": null,
      "outputs": []
    },
    {
      "cell_type": "code",
      "source": [
        "import numpy as np\n",
        "import matplotlib.pyplot as plt"
      ],
      "metadata": {
        "id": "acpUigHFPWbQ"
      },
      "execution_count": 20,
      "outputs": []
    },
    {
      "cell_type": "code",
      "source": [
        "import os\n",
        "\n",
        "path = '/content/drive/My Drive/Colab Notebooks/DISSERTATION/PathMNIST/PathMNIST sizes'\n",
        "\n",
        "print(os.listdir(path))"
      ],
      "metadata": {
        "id": "HFVpA-A9kj4f"
      },
      "execution_count": null,
      "outputs": []
    },
    {
      "cell_type": "code",
      "source": [
        "data = np.load(os.path.join(path, 'pathmnist_224.npz'))\n",
        "\n",
        "print(data.files)"
      ],
      "metadata": {
        "id": "6eP-mq08ezYg"
      },
      "execution_count": null,
      "outputs": []
    },
    {
      "cell_type": "code",
      "source": [
        "print(np.unique(data['train_labels'], return_counts=True))\n",
        "print(np.unique(data['val_labels'], return_counts=True))\n",
        "print(np.unique(data['test_labels'], return_counts=True))"
      ],
      "metadata": {
        "id": "q9o2W5KxgBg3"
      },
      "execution_count": null,
      "outputs": []
    },
    {
      "cell_type": "code",
      "source": [
        "test_images = data['test_images']\n",
        "print(test_images.shape)"
      ],
      "metadata": {
        "id": "w99a2TwsnfdG"
      },
      "execution_count": null,
      "outputs": []
    },
    {
      "cell_type": "code",
      "source": [
        "test_labels = data['test_labels']\n",
        "print(test_labels.shape)"
      ],
      "metadata": {
        "id": "-3iLKRJYthQk"
      },
      "execution_count": null,
      "outputs": []
    },
    {
      "cell_type": "markdown",
      "source": [
        "## Collecting 1 image per class"
      ],
      "metadata": {
        "id": "TR6uCoczw0-K"
      }
    },
    {
      "cell_type": "code",
      "source": [
        "test_images = data['test_images']\n",
        "test_labels = data['test_labels']\n",
        "unique_labels = np.unique(test_labels)\n",
        "examples = {label: np.where(test_labels == label)[0][0] for label in unique_labels}"
      ],
      "metadata": {
        "id": "QGAV07kKw1zg"
      },
      "execution_count": 18,
      "outputs": []
    },
    {
      "cell_type": "code",
      "source": [
        "plt.figure(figsize=(15, 4))\n",
        "for i, (label, idx) in enumerate(examples.items()):\n",
        "  plt.subplot(1, len(unique_labels), i + 1)\n",
        "  plt.imshow(test_images[idx])\n",
        "  plt.title(f\"Label {label}\")\n",
        "  plt.axis(\"off\")\n",
        "plt.tight_layout()\n",
        "plt.show()"
      ],
      "metadata": {
        "id": "Hj-LF0ZUw7Br"
      },
      "execution_count": null,
      "outputs": []
    }
  ]
}