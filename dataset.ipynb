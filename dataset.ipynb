{
 "cells": [
  {
   "cell_type": "code",
   "execution_count": null,
   "id": "10acbc09-8fc8-43bb-9ee2-a11f4364a754",
   "metadata": {},
   "outputs": [],
   "source": [
    "import numpy as np\n",
    "import matplotlib.pyplot as plt"
   ]
  },
  {
   "cell_type": "code",
   "execution_count": null,
   "id": "13959138-da8f-4dbf-8083-51524898fe76",
   "metadata": {},
   "outputs": [],
   "source": [
    "data = np.load(\"pathmnist_224.npz\")"
   ]
  },
  {
   "cell_type": "code",
   "execution_count": null,
   "id": "3cef1aff-6cff-40e7-a130-d328d5ac58b2",
   "metadata": {},
   "outputs": [],
   "source": [
    "print(data.files)"
   ]
  },
  {
   "cell_type": "code",
   "execution_count": null,
   "id": "461c380c-bbf6-401e-9aaf-f908338adb3a",
   "metadata": {
    "scrolled": true
   },
   "outputs": [],
   "source": [
    "print(np.unique(data['train_labels'], return_counts=True))\n",
    "print(np.unique(data['val_labels'], return_counts=True))\n",
    "print(np.unique(data['test_labels'], return_counts=True))"
   ]
  },
  {
   "cell_type": "markdown",
   "id": "1376d189-4a5e-4931-83ae-78f230b1b06f",
   "metadata": {},
   "source": [
    "**Meaning of labels:** {'0': 'adipose', '1': 'background', '2': 'debris', '3': 'lymphocytes', '4': 'mucus', '5': 'smooth muscle', '6': 'normal colon mucosa', '7': 'cancer-associated stroma', '8': 'colorectal adenocarcinoma epithelium'}\n"
   ]
  },
  {
   "cell_type": "code",
   "execution_count": null,
   "id": "b2748f0b-40df-4b0b-b82d-3db82e197479",
   "metadata": {},
   "outputs": [],
   "source": [
    "test_images = data['test_images']\n",
    "print(test_images.shape)"
   ]
  },
  {
   "cell_type": "code",
   "execution_count": null,
   "id": "0fc91378-f68d-4a26-98c6-2ce3157fc4f5",
   "metadata": {},
   "outputs": [],
   "source": [
    "test_labels = data['test_labels']\n",
    "print(test_labels.shape)"
   ]
  },
  {
   "cell_type": "markdown",
   "id": "0315351d-a24f-448e-b5e2-fa089b035cac",
   "metadata": {},
   "source": [
    "## Collecting 1 image per class:"
   ]
  },
  {
   "cell_type": "code",
   "execution_count": null,
   "id": "770bab24-ce90-4d22-be5f-37fa291bcd3b",
   "metadata": {},
   "outputs": [],
   "source": [
    "test_images = data['test_images']\n",
    "test_labels = data['test_labels']\n",
    "\n",
    "unique_labels = np.unique(test_labels)\n",
    "examples = {label: np.where(test_labels == label)[0][0] for label in unique_labels}"
   ]
  },
  {
   "cell_type": "code",
   "execution_count": null,
   "id": "240e15ac-3349-42c4-9a47-f2f59fbc5265",
   "metadata": {},
   "outputs": [],
   "source": [
    "plt.figure(figsize=(15, 4))\n",
    "for i, (label, idx) in enumerate(examples.items()):\n",
    "    plt.subplot(1, len(unique_labels), i + 1)\n",
    "    plt.imshow(test_images[idx])\n",
    "    plt.title(f\"Label {label}\")\n",
    "    plt.axis(\"off\")\n",
    "plt.tight_layout()\n",
    "plt.show()"
   ]
  }
 ],
 "metadata": {
  "kernelspec": {
   "display_name": "Python [conda env:base] *",
   "language": "python",
   "name": "conda-base-py"
  },
  "language_info": {
   "codemirror_mode": {
    "name": "ipython",
    "version": 3
   },
   "file_extension": ".py",
   "mimetype": "text/x-python",
   "name": "python",
   "nbconvert_exporter": "python",
   "pygments_lexer": "ipython3",
   "version": "3.12.7"
  }
 },
 "nbformat": 4,
 "nbformat_minor": 5
}
